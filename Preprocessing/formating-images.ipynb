{
 "cells": [
  {
   "cell_type": "code",
   "execution_count": null,
   "metadata": {},
   "outputs": [],
   "source": [
    "import os #https://docs.python.org/3/library/os.html\n",
    "import cv2 #https://opencv.org/\n",
    "import numpy as np #https://numpy.org/\n",
    "import shutil #https://docs.python.org/3/library/shutil.html\n",
    "from PIL import Image #https://pillow.readthedocs.io/en/stable/"
   ]
  },
  {
   "cell_type": "code",
   "execution_count": null,
   "metadata": {},
   "outputs": [],
   "source": [
    "source_path=r'/content/gdrive/MyDrive/Dataset/color'#source path\n",
    "dest_path=r'/content/gdrive/MyDrive/Dataset/output'#destination path\n",
    "#os.chdir(source_path) #changing directory to color folder in plant village dataset which \n",
    "#contains the folders of more than 56 species"
   ]
  },
  {
   "cell_type": "code",
   "execution_count": null,
   "metadata": {},
   "outputs": [],
   "source": [
    "Species = os.listdir(source_path) #listdir() function return the list of all the files/folders in the directory.\n",
    "#As we are in Color folder ,here we are getting names of all the specie's folder to get all the images form the \n",
    "#folder eg apple ,corn,pepper\n",
    "for Specie in Species:#selecting specie name one by one from Species list.\n",
    "#  os.chdir(Specie)#moveing the directory from color to the selected specie from species list.\n",
    "  d_path = dest_path+'/'+str(Specie)#destination path where we want to make the new folder(with class name)and move images to that folder\n",
    "  s_path=source_path+'/'+str(Specie)+'/'##source path where the images are.\n",
    "  os.mkdir(d_path)#making a folder with the same name of the class as it was in the dataset to move augmented images in to the folder\n",
    "  pictures=os.listdir(source_path+'/'+str(Specie)) #list of names of all pictures in the perticular specie folder\n",
    "  counter=1\n",
    "  for picture in pictures:\n",
    "      # print(picture)\n",
    "    if (picture[-4:]==\".jpg\" or picture[-4:]==\".JPG\"):#if the iamge is jpg then it will just copy it to neww destination\n",
    "      shutil.copy(s_path+picture,d_path)#copying the images into the new formed folder for augmented images.\n",
    "    else:#if the image is not jpg it will change it and then copy it.\n",
    "      img1 = Image.open(s_path+picture)#opens the image.\n",
    "      name='img'+str(counter)+'.jpg'#generates the name for the image\n",
    "      counter+=1\n",
    "      img2 = img1.convert('RGB')#converts the image to RGB format (Red ,Green,Blue)\n",
    "      img2.save(d_path+'/'+name)#saves the image to new destination"
   ]
  }
 ],
 "metadata": {
  "language_info": {
   "name": "python"
  },
  "orig_nbformat": 4
 },
 "nbformat": 4,
 "nbformat_minor": 2
}
